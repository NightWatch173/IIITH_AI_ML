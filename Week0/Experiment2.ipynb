{
  "nbformat": 4,
  "nbformat_minor": 0,
  "metadata": {
    "colab": {
      "name": "Experiment2.ipynb",
      "provenance": [],
      "collapsed_sections": []
    },
    "kernelspec": {
      "name": "python3",
      "display_name": "Python 3"
    }
  },
  "cells": [
    {
      "cell_type": "markdown",
      "metadata": {
        "id": "k5uMi3sX8OmI",
        "colab_type": "text"
      },
      "source": [
        "\n",
        "# Advanced Certification in AIML\n",
        "## A Program by IIIT-H and TalentSprint"
      ]
    },
    {
      "cell_type": "markdown",
      "metadata": {
        "id": "nS9jTci58TH0",
        "colab_type": "text"
      },
      "source": [
        "### Setup Steps"
      ]
    },
    {
      "cell_type": "code",
      "metadata": {
        "id": "1PJ6sdyZ8cXh",
        "colab_type": "code",
        "colab": {}
      },
      "source": [
        "#@title Please enter your registration id to start: (e.g. P181900101) { run: \"auto\", display-mode: \"form\" }\n",
        "Id = \"P181902118\" #@param {type:\"string\"}\n"
      ],
      "execution_count": 0,
      "outputs": []
    },
    {
      "cell_type": "code",
      "metadata": {
        "id": "CZF-4Ymm8gVm",
        "colab_type": "code",
        "colab": {}
      },
      "source": [
        "#@title Please enter your password (normally your phone number) to continue: { run: \"auto\", display-mode: \"form\" }\n",
        "password = \"8860303743\" #@param {type:\"string\"}\n"
      ],
      "execution_count": 0,
      "outputs": []
    },
    {
      "cell_type": "code",
      "metadata": {
        "id": "YsnEXWKozgvw",
        "colab_type": "code",
        "cellView": "form",
        "outputId": "885e4b88-1f11-4ac9-a7ae-48688951231a",
        "colab": {
          "base_uri": "https://localhost:8080/",
          "height": 34
        }
      },
      "source": [
        "#@title Run this cell to complete the setup for this Notebook\n",
        "from IPython import get_ipython\n",
        "\n",
        "ipython = get_ipython()\n",
        "  \n",
        "notebook=\"BLR_M0W0_EXP_2_PythonBasics\" \n",
        "\n",
        "def setup():\n",
        "#  ipython.magic(\"sx pip3 install torch\")  \n",
        "    from IPython.display import HTML, display\n",
        "    display(HTML('<script src=\"https://dashboard.talentsprint.com/aiml/record_ip.html?traineeId={0}&recordId={1}\"></script>'.format(getId(),submission_id)))\n",
        "    print(\"Setup completed successfully\")\n",
        "    return\n",
        "\n",
        "def submit_notebook():\n",
        "    \n",
        "    ipython.magic(\"notebook -e \"+ notebook + \".ipynb\")\n",
        "    \n",
        "    import requests, json, base64, datetime\n",
        "\n",
        "    url = \"https://dashboard.talentsprint.com/xp/app/save_notebook_attempts\"\n",
        "    if not submission_id:\n",
        "      data = {\"id\" : getId(), \"notebook\" : notebook, \"mobile\" : getPassword()}\n",
        "      r = requests.post(url, data = data)\n",
        "      r = json.loads(r.text)\n",
        "\n",
        "      if r[\"status\"] == \"Success\":\n",
        "          return r[\"record_id\"]\n",
        "      elif \"err\" in r:        \n",
        "        print(r[\"err\"])\n",
        "        return None        \n",
        "      else:\n",
        "        print (\"Something is wrong, the notebook will not be submitted for grading\")\n",
        "        return None\n",
        "\n",
        "    elif getAnswer() and getComplexity() and getAdditional() and getConcepts():\n",
        "      f = open(notebook + \".ipynb\", \"rb\")\n",
        "      file_hash = base64.b64encode(f.read())\n",
        "\n",
        "      data = {\"complexity\" : Complexity, \"additional\" :Additional, \n",
        "              \"concepts\" : Concepts, \"record_id\" : submission_id, \n",
        "              \"answer\" : Answer, \"id\" : Id, \"file_hash\" : file_hash,\n",
        "              \"notebook\" : notebook}\n",
        "\n",
        "      r = requests.post(url, data = data)\n",
        "      r = json.loads(r.text)\n",
        "      print(\"Your submission is successful.\")\n",
        "      print(\"Ref Id:\", submission_id)\n",
        "      print(\"Date of submission: \", r[\"date\"])\n",
        "      print(\"Time of submission: \", r[\"time\"])\n",
        "      print(\"View your submissions: https://iiith-aiml.talentsprint.com/notebook_submissions\")\n",
        "      print(\"For any queries/discrepancies, please connect with mentors through the chat icon in LMS dashboard.\")\n",
        "      return submission_id\n",
        "    else: submission_id\n",
        "    \n",
        "\n",
        "def getAdditional():\n",
        "  try:\n",
        "    if Additional: return Additional      \n",
        "    else: raise NameError('')\n",
        "  except NameError:\n",
        "    print (\"Please answer Additional Question\")\n",
        "    return None\n",
        "\n",
        "def getComplexity():\n",
        "  try:\n",
        "    return Complexity\n",
        "  except NameError:\n",
        "    print (\"Please answer Complexity Question\")\n",
        "    return None\n",
        "  \n",
        "def getConcepts():\n",
        "  try:\n",
        "    return Concepts\n",
        "  except NameError:\n",
        "    print (\"Please answer Concepts Question\")\n",
        "    return None\n",
        "\n",
        "def getAnswer():\n",
        "  try:\n",
        "    return Answer\n",
        "  except NameError:\n",
        "    print (\"Please answer Question\")\n",
        "    return None\n",
        "\n",
        "def getId():\n",
        "  try: \n",
        "    return Id if Id else None\n",
        "  except NameError:\n",
        "    return None\n",
        "\n",
        "def getPassword():\n",
        "  try:\n",
        "    return password if password else None\n",
        "  except NameError:\n",
        "    return None\n",
        "\n",
        "submission_id = None\n",
        "### Setup \n",
        "if getPassword() and getId():\n",
        "  submission_id = submit_notebook()\n",
        "  if submission_id:\n",
        "    setup()\n",
        "    from IPython.display import HTML\n",
        "    HTML('<script src=\"https://dashboard.talentsprint.com/aiml/record_ip.html?traineeId={0}&recordId={1}\"></script>'.format(getId(),submission_id))\n",
        "  \n",
        "else:\n",
        "  print (\"Please complete Id and Password cells before running setup\")\n",
        "\n"
      ],
      "execution_count": 0,
      "outputs": [
        {
          "output_type": "display_data",
          "data": {
            "text/html": [
              "<script src=\"https://dashboard.talentsprint.com/aiml/record_ip.html?traineeId=P181902118&recordId=1372\"></script>"
            ],
            "text/plain": [
              "<IPython.core.display.HTML object>"
            ]
          },
          "metadata": {
            "tags": []
          }
        },
        {
          "output_type": "stream",
          "text": [
            "Setup completed successfully\n"
          ],
          "name": "stdout"
        }
      ]
    },
    {
      "cell_type": "markdown",
      "metadata": {
        "id": "NZ627IXgufJE",
        "colab_type": "text"
      },
      "source": [
        "### Dictionaries/Sets/List-comprehensions/Function: \n",
        "Under this section you'll see basic introduction to all osf the above, from the perspective of using misunderstanding that arise during writing ML programs.\n",
        "\n",
        "**NOTE: There is no grading involved in this exercise.**"
      ]
    },
    {
      "cell_type": "markdown",
      "metadata": {
        "colab_type": "text",
        "id": "8_cq2fKgueRF"
      },
      "source": [
        "## Dictionaries"
      ]
    },
    {
      "cell_type": "code",
      "metadata": {
        "colab_type": "code",
        "id": "88RnxRrRBSJS",
        "colab": {}
      },
      "source": [
        "#Create a dictionary\n",
        "capitals = {\"INDIA\" : \"New Delhi\", \"USA\" : \"Washington DC\", \"UK\" : \"London\" }"
      ],
      "execution_count": 0,
      "outputs": []
    },
    {
      "cell_type": "code",
      "metadata": {
        "colab_type": "code",
        "id": "Yb2GxmTRDrss",
        "outputId": "0f7d35b5-0e5b-4225-f4c2-e3c8cc6ab106",
        "colab": {
          "base_uri": "https://localhost:8080/",
          "height": 34
        }
      },
      "source": [
        "#Retrive value of a key\n",
        "capitals[\"USA\"]"
      ],
      "execution_count": 0,
      "outputs": [
        {
          "output_type": "execute_result",
          "data": {
            "text/plain": [
              "'Washington DC'"
            ]
          },
          "metadata": {
            "tags": []
          },
          "execution_count": 42
        }
      ]
    },
    {
      "cell_type": "code",
      "metadata": {
        "colab_type": "code",
        "id": "TS1KqNtkHBq4",
        "outputId": "695090ab-84fc-43a6-86d3-1b3676a9d23a",
        "colab": {
          "base_uri": "https://localhost:8080/",
          "height": 34
        }
      },
      "source": [
        "#Retrive value of a key\n",
        "capitals[\"INDIA\"]"
      ],
      "execution_count": 0,
      "outputs": [
        {
          "output_type": "execute_result",
          "data": {
            "text/plain": [
              "'New Delhi'"
            ]
          },
          "metadata": {
            "tags": []
          },
          "execution_count": 43
        }
      ]
    },
    {
      "cell_type": "code",
      "metadata": {
        "colab_type": "code",
        "id": "kTkrYdB-HflQ",
        "outputId": "ee849021-9c16-4092-89b0-1f2a738141d6",
        "colab": {
          "base_uri": "https://localhost:8080/",
          "height": 164
        }
      },
      "source": [
        "#Case sensitive\n",
        "capitals[\"India\"]"
      ],
      "execution_count": 0,
      "outputs": [
        {
          "output_type": "error",
          "ename": "KeyError",
          "evalue": "ignored",
          "traceback": [
            "\u001b[0;31m---------------------------------------------------------------------------\u001b[0m",
            "\u001b[0;31mKeyError\u001b[0m                                  Traceback (most recent call last)",
            "\u001b[0;32m<ipython-input-44-ea9c8e39da4d>\u001b[0m in \u001b[0;36m<module>\u001b[0;34m()\u001b[0m\n\u001b[0;32m----> 1\u001b[0;31m \u001b[0mcapitals\u001b[0m\u001b[0;34m[\u001b[0m\u001b[0;34m\"India\"\u001b[0m\u001b[0;34m]\u001b[0m\u001b[0;34m\u001b[0m\u001b[0;34m\u001b[0m\u001b[0m\n\u001b[0m",
            "\u001b[0;31mKeyError\u001b[0m: 'India'"
          ]
        }
      ]
    },
    {
      "cell_type": "code",
      "metadata": {
        "colab_type": "code",
        "id": "zKzS_V9gD60W",
        "colab": {}
      },
      "source": [
        "#Length of a dictionary\n",
        "len(capitals)"
      ],
      "execution_count": 0,
      "outputs": []
    },
    {
      "cell_type": "code",
      "metadata": {
        "colab_type": "code",
        "id": "dzIM-hUJEBfQ",
        "outputId": "9525fb26-1c8a-42b4-da38-123d81c3c458",
        "colab": {
          "base_uri": "https://localhost:8080/",
          "height": 34
        }
      },
      "source": [
        "#Built-in function to get the keys\n",
        "capitals.keys()"
      ],
      "execution_count": 0,
      "outputs": [
        {
          "output_type": "execute_result",
          "data": {
            "text/plain": [
              "dict_keys(['INDIA', 'USA', 'UK'])"
            ]
          },
          "metadata": {
            "tags": []
          },
          "execution_count": 45
        }
      ]
    },
    {
      "cell_type": "code",
      "metadata": {
        "colab_type": "code",
        "id": "Ib_V2aNTEQAO",
        "outputId": "ec5cdafd-624e-48f2-90ad-462a3445f80a",
        "colab": {
          "base_uri": "https://localhost:8080/",
          "height": 34
        }
      },
      "source": [
        "#Built-in function to get values \n",
        "capitals.values()"
      ],
      "execution_count": 0,
      "outputs": [
        {
          "output_type": "execute_result",
          "data": {
            "text/plain": [
              "dict_values(['New Delhi', 'Washington DC', 'London'])"
            ]
          },
          "metadata": {
            "tags": []
          },
          "execution_count": 46
        }
      ]
    },
    {
      "cell_type": "code",
      "metadata": {
        "colab_type": "code",
        "id": "OBBNljqvFWvO",
        "outputId": "5a54cea1-f407-4238-e0cd-bfc3d68cc6bf",
        "colab": {
          "base_uri": "https://localhost:8080/",
          "height": 34
        }
      },
      "source": [
        "#Retrive all the key - value pairs\n",
        "capitals.items()"
      ],
      "execution_count": 0,
      "outputs": [
        {
          "output_type": "execute_result",
          "data": {
            "text/plain": [
              "dict_items([('INDIA', 'New Delhi'), ('USA', 'Washington DC'), ('UK', 'London')])"
            ]
          },
          "metadata": {
            "tags": []
          },
          "execution_count": 47
        }
      ]
    },
    {
      "cell_type": "code",
      "metadata": {
        "colab_type": "code",
        "id": "kvQnx8UlFt0K",
        "colab": {}
      },
      "source": [
        "#Adding a key - value pair\n",
        "capitals[\"SRI LANKA\"] = \"Colombo\""
      ],
      "execution_count": 0,
      "outputs": []
    },
    {
      "cell_type": "code",
      "metadata": {
        "colab_type": "code",
        "id": "RIvnOM5SF51Y",
        "outputId": "fb040372-7f5a-4286-b3e4-7ab9ece2ce90",
        "colab": {
          "base_uri": "https://localhost:8080/",
          "height": 34
        }
      },
      "source": [
        "#New length of dictionary\n",
        "len(capitals)"
      ],
      "execution_count": 0,
      "outputs": [
        {
          "output_type": "execute_result",
          "data": {
            "text/plain": [
              "4"
            ]
          },
          "metadata": {
            "tags": []
          },
          "execution_count": 49
        }
      ]
    },
    {
      "cell_type": "code",
      "metadata": {
        "colab_type": "code",
        "id": "kQIBmjJ_F-Ru",
        "outputId": "d2fa7683-e8b7-4a4d-fa1b-15cd8065e95b",
        "colab": {
          "base_uri": "https://localhost:8080/",
          "height": 85
        }
      },
      "source": [
        "#Order of key-value pairs get changed\n",
        "capitals"
      ],
      "execution_count": 0,
      "outputs": [
        {
          "output_type": "execute_result",
          "data": {
            "text/plain": [
              "{'INDIA': 'New Delhi',\n",
              " 'SRI LANKA': 'Colombo',\n",
              " 'UK': 'London',\n",
              " 'USA': 'Washington DC'}"
            ]
          },
          "metadata": {
            "tags": []
          },
          "execution_count": 50
        }
      ]
    },
    {
      "cell_type": "code",
      "metadata": {
        "colab_type": "code",
        "id": "xmpY8CaeOT0U",
        "colab": {}
      },
      "source": [
        "capitals[\"AFGANISTAN\"] = \"Kabul\""
      ],
      "execution_count": 0,
      "outputs": []
    },
    {
      "cell_type": "code",
      "metadata": {
        "colab_type": "code",
        "id": "jCdte-XHOd6o",
        "colab": {}
      },
      "source": [
        "#Update an existing dictionary\n",
        "capitals[\"AFGANISTAN\"] = \"KABUL\""
      ],
      "execution_count": 0,
      "outputs": []
    },
    {
      "cell_type": "code",
      "metadata": {
        "colab_type": "code",
        "id": "2uLlL38nPIRE",
        "outputId": "403b3a5f-bb7b-4e62-d2ac-b00703b54d1a",
        "colab": {
          "base_uri": "https://localhost:8080/",
          "height": 102
        }
      },
      "source": [
        "capitals"
      ],
      "execution_count": 0,
      "outputs": [
        {
          "output_type": "execute_result",
          "data": {
            "text/plain": [
              "{'AFGANISTAN': 'KABUL',\n",
              " 'INDIA': 'New Delhi',\n",
              " 'SRI LANKA': 'Colombo',\n",
              " 'UK': 'London',\n",
              " 'USA': 'Washington DC'}"
            ]
          },
          "metadata": {
            "tags": []
          },
          "execution_count": 53
        }
      ]
    },
    {
      "cell_type": "code",
      "metadata": {
        "colab_type": "code",
        "id": "FBW2K6khGBwm",
        "colab": {}
      },
      "source": [
        "#Dictionaries can contain tuples\n",
        "capitals[(23,45)] = \"Number\""
      ],
      "execution_count": 0,
      "outputs": []
    },
    {
      "cell_type": "code",
      "metadata": {
        "colab_type": "code",
        "id": "TfYMEBI3LYCc",
        "outputId": "cf2478f1-5b6d-4c96-daed-6a1834282d41",
        "colab": {
          "base_uri": "https://localhost:8080/",
          "height": 119
        }
      },
      "source": [
        "capitals"
      ],
      "execution_count": 0,
      "outputs": [
        {
          "output_type": "execute_result",
          "data": {
            "text/plain": [
              "{(23, 45): 'Number',\n",
              " 'AFGANISTAN': 'KABUL',\n",
              " 'INDIA': 'New Delhi',\n",
              " 'SRI LANKA': 'Colombo',\n",
              " 'UK': 'London',\n",
              " 'USA': 'Washington DC'}"
            ]
          },
          "metadata": {
            "tags": []
          },
          "execution_count": 55
        }
      ]
    },
    {
      "cell_type": "code",
      "metadata": {
        "colab_type": "code",
        "id": "RjmV9Re6LYyO",
        "outputId": "6ed34a6e-acbb-43e7-de57-77c66e9e3b8f",
        "colab": {
          "base_uri": "https://localhost:8080/",
          "height": 119
        }
      },
      "source": [
        "for k in capitals.keys():\n",
        "  print ( capitals[k])"
      ],
      "execution_count": 0,
      "outputs": [
        {
          "output_type": "stream",
          "text": [
            "New Delhi\n",
            "Washington DC\n",
            "London\n",
            "Colombo\n",
            "KABUL\n",
            "Number\n"
          ],
          "name": "stdout"
        }
      ]
    },
    {
      "cell_type": "code",
      "metadata": {
        "colab_type": "code",
        "id": "0dbkuLt-OB_A",
        "outputId": "137bc2ef-ac7d-4156-81bc-f896817007e2",
        "colab": {
          "base_uri": "https://localhost:8080/",
          "height": 119
        }
      },
      "source": [
        "for k in capitals.keys():\n",
        "  print ( k , capitals[k])"
      ],
      "execution_count": 0,
      "outputs": [
        {
          "output_type": "stream",
          "text": [
            "INDIA New Delhi\n",
            "USA Washington DC\n",
            "UK London\n",
            "SRI LANKA Colombo\n",
            "AFGANISTAN KABUL\n",
            "(23, 45) Number\n"
          ],
          "name": "stdout"
        }
      ]
    },
    {
      "cell_type": "code",
      "metadata": {
        "colab_type": "code",
        "id": "KUYGcfrWOGzM",
        "colab": {}
      },
      "source": [
        "#Letter count\n",
        "letterCount = {}"
      ],
      "execution_count": 0,
      "outputs": []
    },
    {
      "cell_type": "code",
      "metadata": {
        "colab_type": "code",
        "id": "BbHaNYTYP3MY",
        "colab": {}
      },
      "source": [
        "s = '''TalentSprint is a digital platform designed to transform \n",
        "the lives of professionals in the new economy. Its blended bootcamps\n",
        "offer deeptech skills.'''"
      ],
      "execution_count": 0,
      "outputs": []
    },
    {
      "cell_type": "code",
      "metadata": {
        "colab_type": "code",
        "id": "hgdeGHePRAMK",
        "colab": {}
      },
      "source": [
        "for ch in s :\n",
        "  ch = ch.lower()\n",
        "  if ch not in letterCount :\n",
        "    letterCount[ch] = 1\n",
        "  else :\n",
        "    letterCount[ch] += 1"
      ],
      "execution_count": 0,
      "outputs": []
    },
    {
      "cell_type": "code",
      "metadata": {
        "colab_type": "code",
        "id": "SYg7ARPLRkZy",
        "outputId": "7f667ea6-37c9-42d5-a3bd-88dcf8343953",
        "colab": {
          "base_uri": "https://localhost:8080/",
          "height": 425
        }
      },
      "source": [
        "letterCount"
      ],
      "execution_count": 0,
      "outputs": [
        {
          "output_type": "execute_result",
          "data": {
            "text/plain": [
              "{'\\n': 2,\n",
              " ' ': 20,\n",
              " '.': 2,\n",
              " 'a': 7,\n",
              " 'b': 2,\n",
              " 'c': 3,\n",
              " 'd': 6,\n",
              " 'e': 15,\n",
              " 'f': 6,\n",
              " 'g': 2,\n",
              " 'h': 3,\n",
              " 'i': 10,\n",
              " 'k': 1,\n",
              " 'l': 8,\n",
              " 'm': 4,\n",
              " 'n': 9,\n",
              " 'o': 11,\n",
              " 'p': 5,\n",
              " 'r': 6,\n",
              " 's': 12,\n",
              " 't': 12,\n",
              " 'v': 1,\n",
              " 'w': 1,\n",
              " 'y': 1}"
            ]
          },
          "metadata": {
            "tags": []
          },
          "execution_count": 61
        }
      ]
    },
    {
      "cell_type": "code",
      "metadata": {
        "colab_type": "code",
        "id": "IbUJKNpBRu9s",
        "outputId": "8e939036-9340-4c9f-cb9b-c17bb1f79471",
        "colab": {
          "base_uri": "https://localhost:8080/",
          "height": 34
        }
      },
      "source": [
        "letterCount.keys()"
      ],
      "execution_count": 0,
      "outputs": [
        {
          "output_type": "execute_result",
          "data": {
            "text/plain": [
              "dict_keys(['t', 'a', 'l', 'e', 'n', 's', 'p', 'r', 'i', ' ', 'd', 'g', 'f', 'o', 'm', '\\n', 'h', 'v', 'w', 'c', 'y', '.', 'b', 'k'])"
            ]
          },
          "metadata": {
            "tags": []
          },
          "execution_count": 62
        }
      ]
    },
    {
      "cell_type": "markdown",
      "metadata": {
        "id": "Qc0d37XjIEJI",
        "colab_type": "text"
      },
      "source": [
        "## Sets - Distinct elements of a group"
      ]
    },
    {
      "cell_type": "code",
      "metadata": {
        "id": "raomPqOfKonx",
        "colab_type": "code",
        "colab": {}
      },
      "source": [
        "#can be created in two ways\n",
        "setWithoutRepetitions=set([1,2,2,2,3,3,3,3,4,5])#Passing an entire list object\n",
        "#passing individual objects and using curly braces\n",
        "setWithoutReps2={1,2,2,2,3,3,3,3,4,5}\n"
      ],
      "execution_count": 0,
      "outputs": []
    },
    {
      "cell_type": "code",
      "metadata": {
        "id": "2VL2o4vuMTaq",
        "colab_type": "code",
        "outputId": "b44f5fba-ba29-49fe-b91c-bb47a231794e",
        "colab": {
          "base_uri": "https://localhost:8080/",
          "height": 34
        }
      },
      "source": [
        "setWithoutRepetitions"
      ],
      "execution_count": 0,
      "outputs": [
        {
          "output_type": "execute_result",
          "data": {
            "text/plain": [
              "{1, 2, 3, 4, 5}"
            ]
          },
          "metadata": {
            "tags": []
          },
          "execution_count": 9
        }
      ]
    },
    {
      "cell_type": "code",
      "metadata": {
        "id": "QKcFjTMkMbWS",
        "colab_type": "code",
        "outputId": "7b59e406-4d19-4732-a987-c0b3be5109ff",
        "colab": {
          "base_uri": "https://localhost:8080/",
          "height": 34
        }
      },
      "source": [
        "setWithoutReps2"
      ],
      "execution_count": 0,
      "outputs": [
        {
          "output_type": "execute_result",
          "data": {
            "text/plain": [
              "{1, 2, 3, 4, 5}"
            ]
          },
          "metadata": {
            "tags": []
          },
          "execution_count": 10
        }
      ]
    },
    {
      "cell_type": "markdown",
      "metadata": {
        "id": "a87oyd_RIEB-",
        "colab_type": "text"
      },
      "source": [
        "### Sets are unordered"
      ]
    },
    {
      "cell_type": "code",
      "metadata": {
        "id": "2sVLoqBDID1l",
        "colab_type": "code",
        "colab": {}
      },
      "source": [
        "alphabets=['q','u','u','x']"
      ],
      "execution_count": 0,
      "outputs": []
    },
    {
      "cell_type": "code",
      "metadata": {
        "id": "pjOcZ0c5KIC1",
        "colab_type": "code",
        "colab": {}
      },
      "source": [
        "alphabetSet=set(alphabets)"
      ],
      "execution_count": 0,
      "outputs": []
    },
    {
      "cell_type": "code",
      "metadata": {
        "id": "fYcA3HDiKL7P",
        "colab_type": "code",
        "outputId": "cebbd31c-fb10-44aa-9324-b2588fb5d510",
        "colab": {
          "base_uri": "https://localhost:8080/",
          "height": 34
        }
      },
      "source": [
        "#need not be in order, though coincidentally sometimes is!\n",
        "alphabetSet"
      ],
      "execution_count": 0,
      "outputs": [
        {
          "output_type": "execute_result",
          "data": {
            "text/plain": [
              "{'q', 'u', 'x'}"
            ]
          },
          "metadata": {
            "tags": []
          },
          "execution_count": 13
        }
      ]
    },
    {
      "cell_type": "markdown",
      "metadata": {
        "id": "XRXD6W-PMjhK",
        "colab_type": "text"
      },
      "source": [
        "### Sets are immutable"
      ]
    },
    {
      "cell_type": "code",
      "metadata": {
        "id": "8U58Uo39Mzk_",
        "colab_type": "code",
        "outputId": "b40526cf-5633-4e8e-8c40-f85fd91affd9",
        "colab": {
          "base_uri": "https://localhost:8080/",
          "height": 164
        }
      },
      "source": [
        "#Lets change second element of 'alphabetSet' above! You'll see the error...\n",
        "alphabetSet[1]='b'"
      ],
      "execution_count": 0,
      "outputs": [
        {
          "output_type": "error",
          "ename": "TypeError",
          "evalue": "ignored",
          "traceback": [
            "\u001b[0;31m---------------------------------------------------------------------------\u001b[0m",
            "\u001b[0;31mTypeError\u001b[0m                                 Traceback (most recent call last)",
            "\u001b[0;32m<ipython-input-14-5baa9083e48c>\u001b[0m in \u001b[0;36m<module>\u001b[0;34m()\u001b[0m\n\u001b[0;32m----> 1\u001b[0;31m \u001b[0malphabetSet\u001b[0m\u001b[0;34m[\u001b[0m\u001b[0;36m1\u001b[0m\u001b[0;34m]\u001b[0m\u001b[0;34m=\u001b[0m\u001b[0;34m'b'\u001b[0m\u001b[0;34m\u001b[0m\u001b[0;34m\u001b[0m\u001b[0m\n\u001b[0m",
            "\u001b[0;31mTypeError\u001b[0m: 'set' object does not support item assignment"
          ]
        }
      ]
    },
    {
      "cell_type": "markdown",
      "metadata": {
        "id": "-rf0isIbOWJo",
        "colab_type": "text"
      },
      "source": [
        "### Note: All standard mathematical set operations are possible in sets. Please explore those."
      ]
    },
    {
      "cell_type": "markdown",
      "metadata": {
        "id": "6-NQrVrqOPM-",
        "colab_type": "text"
      },
      "source": [
        "### Set Uses"
      ]
    },
    {
      "cell_type": "code",
      "metadata": {
        "id": "cuUcbLjbNYak",
        "colab_type": "code",
        "colab": {}
      },
      "source": [
        "#useful in text processing. For example: finding distinct alphabets in a word\n",
        "word='mississippi'"
      ],
      "execution_count": 0,
      "outputs": []
    },
    {
      "cell_type": "code",
      "metadata": {
        "id": "nOXFxMbCOAUE",
        "colab_type": "code",
        "colab": {}
      },
      "source": [
        "distinctAplha=set(word)"
      ],
      "execution_count": 0,
      "outputs": []
    },
    {
      "cell_type": "code",
      "metadata": {
        "id": "d92fEAnSOEK9",
        "colab_type": "code",
        "outputId": "d358a94a-3da2-4d8c-e04c-23baf2109c96",
        "colab": {
          "base_uri": "https://localhost:8080/",
          "height": 34
        }
      },
      "source": [
        "distinctAplha"
      ],
      "execution_count": 0,
      "outputs": [
        {
          "output_type": "execute_result",
          "data": {
            "text/plain": [
              "{'i', 'm', 'p', 's'}"
            ]
          },
          "metadata": {
            "tags": []
          },
          "execution_count": 17
        }
      ]
    },
    {
      "cell_type": "markdown",
      "metadata": {
        "colab_type": "text",
        "id": "kOhsGLZW5cKn"
      },
      "source": [
        "## Functions"
      ]
    },
    {
      "cell_type": "markdown",
      "metadata": {
        "id": "2t_u2r_RQKFE",
        "colab_type": "text"
      },
      "source": [
        "### Return values"
      ]
    },
    {
      "cell_type": "code",
      "metadata": {
        "colab_type": "code",
        "id": "-CMRxsZN5bbe",
        "colab": {}
      },
      "source": [
        "def returnsTwoValues():\n",
        "  x=1\n",
        "  y=2\n",
        "  return x,y\n"
      ],
      "execution_count": 0,
      "outputs": []
    },
    {
      "cell_type": "code",
      "metadata": {
        "id": "ZiTxIFUTkgLN",
        "colab_type": "code",
        "colab": {}
      },
      "source": [
        "#Call the function above \"ONLY\" to return the value of y while ignoring X\n",
        "_,y=returnsTwoValues()"
      ],
      "execution_count": 0,
      "outputs": []
    },
    {
      "cell_type": "markdown",
      "metadata": {
        "id": "41TNXplPQRWC",
        "colab_type": "text"
      },
      "source": [
        "### First class objects"
      ]
    },
    {
      "cell_type": "code",
      "metadata": {
        "id": "IFZKzM0zExNB",
        "colab_type": "code",
        "colab": {}
      },
      "source": [
        "#Functions are first-class objects. For instance, you can pass function as a parameter\n",
        "def greet(differentTypesOfGreet):\n",
        "  greetText = differentTypesOfGreet()\n",
        "  print(greetText)\n",
        "\n",
        "def justHello():\n",
        "  return \"hello\"\n",
        "\n",
        "def ecstaticHello():\n",
        "  return \"Heyyyyy!!!!\"\n"
      ],
      "execution_count": 0,
      "outputs": []
    },
    {
      "cell_type": "code",
      "metadata": {
        "id": "Wi6n_X-UFmIE",
        "colab_type": "code",
        "outputId": "e91cb29e-3694-4866-d2bd-0cb5555abafe",
        "colab": {
          "base_uri": "https://localhost:8080/",
          "height": 51
        }
      },
      "source": [
        "greet(justHello)\n",
        "greet(ecstaticHello)"
      ],
      "execution_count": 0,
      "outputs": [
        {
          "output_type": "stream",
          "text": [
            "hello\n",
            "Heyyyyy!!!!\n"
          ],
          "name": "stdout"
        }
      ]
    },
    {
      "cell_type": "markdown",
      "metadata": {
        "id": "NuxhAvPJiHgR",
        "colab_type": "text"
      },
      "source": [
        "## File Handling"
      ]
    },
    {
      "cell_type": "code",
      "metadata": {
        "id": "zWPfnCd-iKyh",
        "colab_type": "code",
        "colab": {}
      },
      "source": [
        "#EXERCISE: Open a file for writing\n",
        "f=open('MyDetails.txt','w')\n",
        "f.write(\"I am so and so\")\n",
        "f.close()"
      ],
      "execution_count": 0,
      "outputs": []
    },
    {
      "cell_type": "code",
      "metadata": {
        "id": "EUhKQ1kOiaay",
        "colab_type": "code",
        "colab": {}
      },
      "source": [
        "#EXERCISE: Read the file that you just wrote and saved and print the contents\n",
        "readF=open(\"MyDetails.txt\",'r')"
      ],
      "execution_count": 0,
      "outputs": []
    },
    {
      "cell_type": "code",
      "metadata": {
        "id": "M_cRcSrvimDr",
        "colab_type": "code",
        "outputId": "292060f3-246b-4b25-b1c5-9ec7b4a58d9c",
        "colab": {
          "base_uri": "https://localhost:8080/",
          "height": 51
        }
      },
      "source": [
        "for lines in readF:\n",
        "  print(f'printing using flash string : {lines}')# Upwards of Python 3.0\n",
        "  print('printing using good old print :',lines) #On all versions. Which way of formatting seems easier?\n",
        "\n"
      ],
      "execution_count": 0,
      "outputs": [
        {
          "output_type": "stream",
          "text": [
            "printing using flash string : I am so and so\n",
            "printing using good old print : I am so and so\n"
          ],
          "name": "stdout"
        }
      ]
    },
    {
      "cell_type": "code",
      "metadata": {
        "id": "g4xklDcAi5uS",
        "colab_type": "code",
        "colab": {}
      },
      "source": [
        "readF.close()"
      ],
      "execution_count": 0,
      "outputs": []
    },
    {
      "cell_type": "markdown",
      "metadata": {
        "id": "pIX9cdxEKYxI",
        "colab_type": "text"
      },
      "source": [
        "# Programs - Functions/Dictionaries/Sets/List comprehensions"
      ]
    },
    {
      "cell_type": "markdown",
      "metadata": {
        "id": "jarXZWQStihu",
        "colab_type": "text"
      },
      "source": [
        "## Fuctions/List comprehensions:\n",
        "**Problem1**: If we list all the natural numbers below 10 that are multiples of 3 or 5, we get 3, 5, 6 and 9. The sum of these multiples is 23.\n",
        "\n",
        "Find the sum of all the multiples of 3 or 5 below 1000."
      ]
    },
    {
      "cell_type": "code",
      "metadata": {
        "id": "YS_ADu66tMSo",
        "colab_type": "code",
        "outputId": "814205fb-ba71-4817-d40e-c01336832480",
        "colab": {
          "base_uri": "https://localhost:8080/",
          "height": 34
        }
      },
      "source": [
        "### Using a function with while\n",
        "def select(x):\n",
        "    return x % 3 == 0 or x % 5 == 0\n",
        "\n",
        "LIMIT = 1000\n",
        "total = 0\n",
        "n = 1\n",
        "while n < LIMIT:\n",
        "    if select(n):\n",
        "        total += n\n",
        "    n += 1\n",
        "print(total)"
      ],
      "execution_count": 0,
      "outputs": [
        {
          "output_type": "stream",
          "text": [
            "233168\n"
          ],
          "name": "stdout"
        }
      ]
    },
    {
      "cell_type": "code",
      "metadata": {
        "id": "9Z3i2UyVtSOr",
        "colab_type": "code",
        "outputId": "f229c6d1-a259-4706-9dec-78ac42feef70",
        "colab": {
          "base_uri": "https://localhost:8080/",
          "height": 34
        }
      },
      "source": [
        "### Using filter with lambda\n",
        "LIMIT = 1000\n",
        "sum(filter(lambda x: x % 3 == 0 or x % 5 == 0, range(LIMIT)))"
      ],
      "execution_count": 0,
      "outputs": [
        {
          "output_type": "execute_result",
          "data": {
            "text/plain": [
              "233168"
            ]
          },
          "metadata": {
            "tags": []
          },
          "execution_count": 31
        }
      ]
    },
    {
      "cell_type": "code",
      "metadata": {
        "id": "O_kRYzVWtXDp",
        "colab_type": "code",
        "outputId": "a27ace76-9bbd-48d0-f320-a86062da6a1e",
        "colab": {
          "base_uri": "https://localhost:8080/",
          "height": 34
        }
      },
      "source": [
        "### Using filter with function\n",
        "def select(x):\n",
        "    return x % 3 == 0 or x % 5 == 0\n",
        "LIMIT = 1000\n",
        "sum(filter(select, range(LIMIT)))"
      ],
      "execution_count": 0,
      "outputs": [
        {
          "output_type": "execute_result",
          "data": {
            "text/plain": [
              "233168"
            ]
          },
          "metadata": {
            "tags": []
          },
          "execution_count": 33
        }
      ]
    },
    {
      "cell_type": "code",
      "metadata": {
        "id": "zfaW0rggtY5m",
        "colab_type": "code",
        "outputId": "9148fb23-525c-40fe-f5b8-94486d70b962",
        "colab": {
          "base_uri": "https://localhost:8080/",
          "height": 34
        }
      },
      "source": [
        "### Using list comprehensions\n",
        "LIMIT = 1000\n",
        "sum([x for x in range(LIMIT) if x % 3 == 0 or x % 5 == 0])"
      ],
      "execution_count": 0,
      "outputs": [
        {
          "output_type": "execute_result",
          "data": {
            "text/plain": [
              "233168"
            ]
          },
          "metadata": {
            "tags": []
          },
          "execution_count": 34
        }
      ]
    },
    {
      "cell_type": "markdown",
      "metadata": {
        "id": "YTbWb9MLzXPe",
        "colab_type": "text"
      },
      "source": [
        "**Problem2**: Each new term in the Fibonacci sequence is generated by adding the previous two terms. By starting with 1 and 2, the first 10 terms will be:\n",
        "\n",
        "1, 2, 3, 5, 8, 13, 21, 34, 55, 89, ...\n",
        "\n",
        "By considering the terms in the Fibonacci sequence whose values do not exceed four million, find the sum of the even-valued terms."
      ]
    },
    {
      "cell_type": "code",
      "metadata": {
        "id": "dSQdDkGhzXaF",
        "colab_type": "code",
        "colab": {}
      },
      "source": [
        "### Generating the fibonacci series and storing it\n",
        "### caution: MEMORY hungry\n",
        "def fib(n):\n",
        "    a, b = 0, 1\n",
        "    fibs = []\n",
        "    while a < n:\n",
        "        fibs.append(a)\n",
        "        a, b = b, a+b\n",
        "    return fibs"
      ],
      "execution_count": 0,
      "outputs": []
    },
    {
      "cell_type": "code",
      "metadata": {
        "id": "dtflmZFgzgWQ",
        "colab_type": "code",
        "outputId": "632f3529-6fcd-4ef8-ae34-39c498c55814",
        "colab": {
          "base_uri": "https://localhost:8080/",
          "height": 34
        }
      },
      "source": [
        "### filter and lambda with the generated fibs \n",
        "LIMIT = 4000000\n",
        "sum(filter(lambda x: x % 2 == 0, fib(LIMIT)))"
      ],
      "execution_count": 0,
      "outputs": [
        {
          "output_type": "execute_result",
          "data": {
            "text/plain": [
              "4613732"
            ]
          },
          "metadata": {
            "tags": []
          },
          "execution_count": 36
        }
      ]
    },
    {
      "cell_type": "code",
      "metadata": {
        "id": "skRyvFf9zhHZ",
        "colab_type": "code",
        "outputId": "7a90ddcd-687d-4bce-fb4d-a32830c947bc",
        "colab": {
          "base_uri": "https://localhost:8080/",
          "height": 34
        }
      },
      "source": [
        "### list comprehension with the generated fibs \n",
        "LIMIT = 4000000\n",
        "sum([x for x in fib(LIMIT) if x % 2 == 0])"
      ],
      "execution_count": 0,
      "outputs": [
        {
          "output_type": "execute_result",
          "data": {
            "text/plain": [
              "4613732"
            ]
          },
          "metadata": {
            "tags": []
          },
          "execution_count": 37
        }
      ]
    },
    {
      "cell_type": "code",
      "metadata": {
        "id": "xs5Coak5zqbU",
        "colab_type": "code",
        "outputId": "238e2062-04a1-4819-971a-3ce73a46aef3",
        "colab": {
          "base_uri": "https://localhost:8080/",
          "height": 34
        }
      },
      "source": [
        "### Using yield, filter and lambda\n",
        "### ADVANCED: does not take up memory\n",
        "def fib(n):\n",
        "    a, b = 0, 1\n",
        "    while a < n:\n",
        "        yield a\n",
        "        a, b = b, a + b\n",
        "LIMIT = 4000000\n",
        "sum(filter(lambda x: x % 2 == 0, fib(LIMIT)))"
      ],
      "execution_count": 0,
      "outputs": [
        {
          "output_type": "execute_result",
          "data": {
            "text/plain": [
              "4613732"
            ]
          },
          "metadata": {
            "tags": []
          },
          "execution_count": 38
        }
      ]
    },
    {
      "cell_type": "markdown",
      "metadata": {
        "id": "Ck39iS3e2qZk",
        "colab_type": "text"
      },
      "source": [
        "**Problem3**: FizzBuzz \n",
        "This is a game that has gained in popularity as a programming assignment to weed out non-programmers during job interviews. The object of the assignment is less about solving it correctly according to the below rules and more about showing the programmer understands basic, necessary tools such as if-/else-statements and loops. The rules of FizzBuzz are as follows:\n",
        "\n",
        "For numbers 1 through 100,\n",
        "\n",
        " * if the number is divisible by 3 print Fizz;\n",
        " * if the number is divisible by 5 print Buzz;\n",
        " * if the number is divisible by 3 and 5 (15) print FizzBuzz;\n",
        " * else, print the number."
      ]
    },
    {
      "cell_type": "code",
      "metadata": {
        "id": "Gqv9Fori3B_0",
        "colab_type": "code",
        "outputId": "5b569232-8e83-404c-d4f7-4a0b27c23920",
        "colab": {
          "base_uri": "https://localhost:8080/",
          "height": 54
        }
      },
      "source": [
        "##COULD YOU TRY A SOPHISTICATED VERISON THAT INCLUDES FUNCTIONS/LIST-COMPREHENSIONS etc?\n",
        "##YOUR CODE HERE##\n",
        "def fizzbuzz(n):\n",
        "    fb = \"\"\n",
        "    if n % 3 == 0:\n",
        "        fb += \"FIZZ\"\n",
        "    if n % 5 == 0:\n",
        "        fb += \"BUZZ\"\n",
        "    if len(fb) == 0:\n",
        "        return str(n)\n",
        "    else:\n",
        "        return fb\n",
        "fbs = [fizzbuzz(x) for x in range(1,101)]\n",
        "print(fbs)"
      ],
      "execution_count": 0,
      "outputs": [
        {
          "output_type": "stream",
          "text": [
            "['1', '2', 'FIZZ', '4', 'BUZZ', 'FIZZ', '7', '8', 'FIZZ', 'BUZZ', '11', 'FIZZ', '13', '14', 'FIZZBUZZ', '16', '17', 'FIZZ', '19', 'BUZZ', 'FIZZ', '22', '23', 'FIZZ', 'BUZZ', '26', 'FIZZ', '28', '29', 'FIZZBUZZ', '31', '32', 'FIZZ', '34', 'BUZZ', 'FIZZ', '37', '38', 'FIZZ', 'BUZZ', '41', 'FIZZ', '43', '44', 'FIZZBUZZ', '46', '47', 'FIZZ', '49', 'BUZZ', 'FIZZ', '52', '53', 'FIZZ', 'BUZZ', '56', 'FIZZ', '58', '59', 'FIZZBUZZ', '61', '62', 'FIZZ', '64', 'BUZZ', 'FIZZ', '67', '68', 'FIZZ', 'BUZZ', '71', 'FIZZ', '73', '74', 'FIZZBUZZ', '76', '77', 'FIZZ', '79', 'BUZZ', 'FIZZ', '82', '83', 'FIZZ', 'BUZZ', '86', 'FIZZ', '88', '89', 'FIZZBUZZ', '91', '92', 'FIZZ', '94', 'BUZZ', 'FIZZ', '97', '98', 'FIZZ', 'BUZZ']\n"
          ],
          "name": "stdout"
        }
      ]
    },
    {
      "cell_type": "markdown",
      "metadata": {
        "id": "YQ0srYH45T0d",
        "colab_type": "text"
      },
      "source": [
        "**Problem4: Primes!**\n",
        "By listing the first six prime numbers: 2, 3, 5, 7, 11, and 13, we can see that the 6th prime is 13.\n",
        "\n",
        "What is the  10,001𝑡ℎ  prime number?"
      ]
    },
    {
      "cell_type": "code",
      "metadata": {
        "id": "6Y067_3p5VIo",
        "colab_type": "code",
        "outputId": "c3d9bb09-6096-47c2-aeeb-43b060617fb1",
        "colab": {
          "base_uri": "https://localhost:8080/",
          "height": 68
        }
      },
      "source": [
        "## Use the constructs learnt above to write this one.\n",
        "##YOUR CODE HERE\n",
        "\n",
        "%%time\n",
        "import math\n",
        "# n = 10001\n",
        "# print(\"max possiblity of 10001th prime number -\", 2 * n * math.log(n))\n",
        "# print(\"max possiblity of 10001th prime number -\", n * math.log(n) * math.log(math.log(n) - 0.9385))\n",
        "\n",
        "# 𝑛(ln𝑛+lnln𝑛)\n",
        "def primes_sieve(n):\n",
        "    p_n = int(2 * n * math.log(n))       # over-estimate p_n\n",
        "    sieve = [True] * p_n                 # everything is prime to start\n",
        "    count = 0\n",
        "\n",
        "    for i in range(2, p_n):\n",
        "        if sieve[i]:                       # still prime?\n",
        "            count += 1                     # count it!\n",
        "            if count == n:                 # done!\n",
        "                return i\n",
        "            for j in range(2*i, p_n, i):   # cross off all multiples of i\n",
        "                sieve[j] = False\n",
        "                \n",
        "print('10001th prime number - ', primes_sieve(10001))"
      ],
      "execution_count": 0,
      "outputs": [
        {
          "output_type": "stream",
          "text": [
            "10001th prime number -  104743\n",
            "CPU times: user 42.8 ms, sys: 33 µs, total: 42.8 ms\n",
            "Wall time: 42.7 ms\n"
          ],
          "name": "stdout"
        }
      ]
    },
    {
      "cell_type": "markdown",
      "metadata": {
        "id": "Hh-ri1R99Kpo",
        "colab_type": "text"
      },
      "source": [
        "### Please answer the questions below to complete the experiment:"
      ]
    },
    {
      "cell_type": "code",
      "metadata": {
        "id": "UYDlfiAi5aJj",
        "colab_type": "code",
        "colab": {}
      },
      "source": [
        "#@title Which of the following cannot be used as keys in dictionaries { run: \"auto\", form-width: \"500px\", display-mode: \"form\" }\n",
        "Answer = \"list\" #@param  [\"strings\", \"tuples\", \"list\"]\n"
      ],
      "execution_count": 0,
      "outputs": []
    },
    {
      "cell_type": "code",
      "metadata": {
        "id": "vb3In-yy9Uxg",
        "colab_type": "code",
        "colab": {}
      },
      "source": [
        "#@title How was the experiment? { run: \"auto\", form-width: \"500px\", display-mode: \"form\" }\n",
        "Complexity = \"Good and Challenging for me\" #@param [\"Too Simple, I am wasting time\", \"Good, But Not Challenging for me\", \"Good and Challenging for me\", \"Was Tough, but I did it\", \"Too Difficult for me\"]\n"
      ],
      "execution_count": 0,
      "outputs": []
    },
    {
      "cell_type": "code",
      "metadata": {
        "id": "RaKm3EKl9ZBH",
        "colab_type": "code",
        "colab": {}
      },
      "source": [
        "#@title If it was very easy, what more you would have liked to have been added? If it was very difficult, what would you have liked to have been removed? { run: \"auto\", display-mode: \"form\" }\n",
        "Additional = \"all good\" #@param {type:\"string\"}"
      ],
      "execution_count": 0,
      "outputs": []
    },
    {
      "cell_type": "code",
      "metadata": {
        "id": "P7_gJn-Y9dJu",
        "colab_type": "code",
        "colab": {}
      },
      "source": [
        "#@title Can you identify the concepts from the lecture which this experiment covered? { run: \"auto\", vertical-output: true, display-mode: \"form\" }\n",
        "Concepts = \"Yes\" #@param [\"Yes\", \"No\"]"
      ],
      "execution_count": 0,
      "outputs": []
    },
    {
      "cell_type": "code",
      "metadata": {
        "id": "jThGxf-O9fs8",
        "colab_type": "code",
        "cellView": "form",
        "outputId": "30bf4db9-9e8f-448d-8c44-a9e9851f2f5a",
        "colab": {
          "base_uri": "https://localhost:8080/",
          "height": 119
        }
      },
      "source": [
        "#@title Run this cell to submit your notebook for grading { vertical-output: true }\n",
        "try:\n",
        "  if submission_id:\n",
        "      return_id = submit_notebook()\n",
        "      if return_id : submission_id =return_id\n",
        "  else:\n",
        "      print(\"Please complete the setup first.\")\n",
        "except NameError:\n",
        "  print (\"Please complete the setup first.\")"
      ],
      "execution_count": 0,
      "outputs": [
        {
          "output_type": "stream",
          "text": [
            "Your submission is successful.\n",
            "Ref Id: 1372\n",
            "Date of submission:  11 Mar 2019\n",
            "Time of submission:  19:53:59\n",
            "View your submissions: https://iiith-aiml.talentsprint.com/notebook_submissions\n",
            "For any queries/discrepancies, please connect with mentors through the chat icon in LMS dashboard.\n"
          ],
          "name": "stdout"
        }
      ]
    },
    {
      "cell_type": "code",
      "metadata": {
        "id": "vFu2M4kV9i3u",
        "colab_type": "code",
        "colab": {}
      },
      "source": [
        ""
      ],
      "execution_count": 0,
      "outputs": []
    }
  ]
}