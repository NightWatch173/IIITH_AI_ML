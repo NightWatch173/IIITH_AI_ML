{
  "nbformat": 4,
  "nbformat_minor": 0,
  "metadata": {
    "colab": {
      "name": "1_KNN_weight_sphericity.ipynb",
      "provenance": [],
      "collapsed_sections": []
    },
    "kernelspec": {
      "display_name": "Python 3",
      "language": "python",
      "name": "python3"
    }
  },
  "cells": [
    {
      "cell_type": "markdown",
      "metadata": {
        "id": "15tOC4a3Iuov",
        "colab_type": "text"
      },
      "source": [
        "\n",
        "\n",
        "\n",
        "# Advanced Certification in AIML\n",
        "## A Program by IIIT-H and TalentSprint"
      ]
    },
    {
      "cell_type": "markdown",
      "metadata": {
        "id": "gmtAEGR9KeLO",
        "colab_type": "text"
      },
      "source": [
        "## Learning Objectives"
      ]
    },
    {
      "cell_type": "markdown",
      "metadata": {
        "id": "6fcS1yDAKg3R",
        "colab_type": "text"
      },
      "source": [
        "\n",
        "\n",
        "At the end of the experiment, you will be able to :\n",
        "\n",
        "*  learn how a simple K nearest neighbour classification works. "
      ]
    },
    {
      "cell_type": "markdown",
      "metadata": {
        "id": "3UWCPTy1Kr08",
        "colab_type": "text"
      },
      "source": [
        "## Dataset"
      ]
    },
    {
      "cell_type": "markdown",
      "metadata": {
        "id": "lWZnQh24KtN-",
        "colab_type": "text"
      },
      "source": [
        "### Description"
      ]
    },
    {
      "cell_type": "markdown",
      "metadata": {
        "id": "RjGwyApuKzI4",
        "colab_type": "text"
      },
      "source": [
        "Let us consider a simple situation. Given some data about a fruit, we want to label it automatically.\n",
        "\n",
        "Fruits are characterized by \n",
        " * weight in grams as a float\n",
        " * sphericity  as a float\n",
        " * label as a string\n",
        "     - \"A\" $\\rightarrow$ Apple\n",
        "     - \"O\" $\\rightarrow$ Orange\n",
        "     \n",
        "We are given some sample data such as (303, 3, \"A\") meaning the fruit with 303 gram weight, and yellow colour is an apple. A set of such *training samples* is given in “kNN_weight_sphericity_train.csv”. \n",
        "\n",
        "We are given a set of **test** data where only weight and colour are given,  eg. (373,1). We should design a simple Nearest Neighbour classifier that will find the fruit label. i.e., \"A\" or \"O\", meaning Apple or Orange. \n",
        "\n",
        "We have several such testcases, split into train and test. We try to see if our predictions are fine on test data.\n"
      ]
    },
    {
      "cell_type": "markdown",
      "metadata": {
        "id": "saLLOh0rLOft",
        "colab_type": "text"
      },
      "source": [
        "## AIML Technique"
      ]
    },
    {
      "cell_type": "markdown",
      "metadata": {
        "id": "GgngHPQdLRdA",
        "colab_type": "text"
      },
      "source": [
        "In this experiment we will be using knn classifier to predict the labels of test data.\n",
        "\n",
        "### K-nearest neighbor (KNN)"
      ]
    },
    {
      "cell_type": "markdown",
      "metadata": {
        "id": "WkzCs9dkLaVe",
        "colab_type": "text"
      },
      "source": [
        "K-nearest neighbor is a supervisied learning algorithm where the result of new instance sample is classified based on the majority k-nearest neighbors. \n",
        "\n",
        "For example, given a new sample , we find k number of training sample close to the new sample by calculating the distance between them. The classification is done using majority vote among k nearest samples."
      ]
    },
    {
      "cell_type": "markdown",
      "metadata": {
        "id": "-U-6qKoXv6QY",
        "colab_type": "text"
      },
      "source": [
        "### Setup Steps:"
      ]
    },
    {
      "cell_type": "code",
      "metadata": {
        "id": "IrXc7YPIv5mh",
        "colab_type": "code",
        "colab": {}
      },
      "source": [
        "#@title Please enter your registration id to start: (e.g. P181900101) { run: \"auto\", display-mode: \"form\" }\n",
        "Id = \"\" #@param {type:\"string\"}\n"
      ],
      "execution_count": 0,
      "outputs": []
    },
    {
      "cell_type": "code",
      "metadata": {
        "id": "7AQrlyzyv-tz",
        "colab_type": "code",
        "colab": {}
      },
      "source": [
        "#@title Please enter your password (normally your phone number) to continue: { run: \"auto\", display-mode: \"form\" }\n",
        "password = \"\" #@param {type:\"string\"}\n"
      ],
      "execution_count": 0,
      "outputs": []
    },
    {
      "cell_type": "code",
      "metadata": {
        "id": "m1EAbagE2c2Z",
        "colab_type": "code",
        "cellView": "form",
        "colab": {}
      },
      "source": [
        "#@title Run this cell to complete the setup for this Notebook\n",
        "from IPython import get_ipython\n",
        "\n",
        "ipython = get_ipython()\n",
        "  \n",
        "notebook=\"BLR_M0W0_KNN_weight_sphericity\" #name of the notebook\n",
        "\n",
        "def setup():\n",
        "#  ipython.magic(\"sx pip3 install torch\")\n",
        "    ipython.magic(\"sx wget https://cdn.talentsprint.com/aiml/Experiment_related_data/kNN_weight_sphericity_train.csv\")\n",
        "    ipython.magic(\"sx wget https://cdn.talentsprint.com/aiml/Experiment_related_data/kNN_weight_sphericity_test.csv\")\n",
        "    from IPython.display import HTML, display\n",
        "    display(HTML('<script src=\"https://dashboard.talentsprint.com/aiml/record_ip.html?traineeId={0}&recordId={1}\"></script>'.format(getId(),submission_id)))\n",
        "    print(\"Setup completed successfully\")\n",
        "    return\n",
        "\n",
        "def submit_notebook():\n",
        "    \n",
        "    ipython.magic(\"notebook -e \"+ notebook + \".ipynb\")\n",
        "    \n",
        "    import requests, json, base64, datetime\n",
        "\n",
        "    url = \"https://dashboard.talentsprint.com/xp/app/save_notebook_attempts\"\n",
        "    if not submission_id:\n",
        "      data = {\"id\" : getId(), \"notebook\" : notebook, \"mobile\" : getPassword()}\n",
        "      r = requests.post(url, data = data)\n",
        "      r = json.loads(r.text)\n",
        "\n",
        "      if r[\"status\"] == \"Success\":\n",
        "          return r[\"record_id\"]\n",
        "      elif \"err\" in r:        \n",
        "        print(r[\"err\"])\n",
        "        return None        \n",
        "      else:\n",
        "        print (\"Something is wrong, the notebook will not be submitted for grading\")\n",
        "        return None\n",
        "\n",
        "    elif getAnswer() and getComplexity() and getAdditional() and getConcepts():\n",
        "      f = open(notebook + \".ipynb\", \"rb\")\n",
        "      file_hash = base64.b64encode(f.read())\n",
        "\n",
        "      data = {\"complexity\" : Complexity, \"additional\" :Additional, \n",
        "              \"concepts\" : Concepts, \"record_id\" : submission_id, \n",
        "              \"answer\" : Answer, \"id\" : Id, \"file_hash\" : file_hash,\n",
        "              \"notebook\" : notebook}\n",
        "\n",
        "      r = requests.post(url, data = data)\n",
        "      r = json.loads(r.text)\n",
        "      print(\"Your submission is successful.\")\n",
        "      print(\"Ref Id:\", submission_id)\n",
        "      print(\"Date of submission: \", r[\"date\"])\n",
        "      print(\"Time of submission: \", r[\"time\"])\n",
        "      print(\"View your submissions: https://iiith-aiml.talentsprint.com/notebook_submissions\")\n",
        "      print(\"For any queries/discrepancies, please connect with mentors through the chat icon in LMS dashboard.\")\n",
        "      return submission_id\n",
        "    else: submission_id\n",
        "    \n",
        "\n",
        "def getAdditional():\n",
        "  try:\n",
        "    if Additional: return Additional      \n",
        "    else: raise NameError('')\n",
        "  except NameError:\n",
        "    print (\"Please answer Additional Question\")\n",
        "    return None\n",
        "\n",
        "def getComplexity():\n",
        "  try:\n",
        "    return Complexity\n",
        "  except NameError:\n",
        "    print (\"Please answer Complexity Question\")\n",
        "    return None\n",
        "  \n",
        "def getConcepts():\n",
        "  try:\n",
        "    return Concepts\n",
        "  except NameError:\n",
        "    print (\"Please answer Concepts Question\")\n",
        "    return None\n",
        "\n",
        "def getAnswer():\n",
        "  try:\n",
        "    return Answer\n",
        "  except NameError:\n",
        "    print (\"Please answer Question\")\n",
        "    return None\n",
        "\n",
        "def getId():\n",
        "  try: \n",
        "    return Id if Id else None\n",
        "  except NameError:\n",
        "    return None\n",
        "\n",
        "def getPassword():\n",
        "  try:\n",
        "    return password if password else None\n",
        "  except NameError:\n",
        "    return None\n",
        "\n",
        "submission_id = None\n",
        "### Setup \n",
        "if getPassword() and getId():\n",
        "  submission_id = submit_notebook()\n",
        "  if submission_id:\n",
        "    setup()\n",
        "    from IPython.display import HTML\n",
        "    HTML('<script src=\"https://dashboard.talentsprint.com/aiml/record_ip.html?traineeId={0}&recordId={1}\"></script>'.format(getId(),submission_id))\n",
        "  \n",
        "else:\n",
        "  print (\"Please complete Id and Password cells before running setup\")\n",
        "\n"
      ],
      "execution_count": 0,
      "outputs": []
    },
    {
      "cell_type": "code",
      "metadata": {
        "id": "xUbF5jHjIuo0",
        "colab_type": "code",
        "colab": {}
      },
      "source": [
        "## Let us set up the file names\n",
        "FRUITS_TRAIN = \"kNN_weight_sphericity_train.csv\"\n",
        "FRUITS_TEST1 = \"kNN_weight_sphericity_test.csv\"\n",
        "\n"
      ],
      "execution_count": 0,
      "outputs": []
    },
    {
      "cell_type": "code",
      "metadata": {
        "id": "Y2M6za5jIuo3",
        "colab_type": "code",
        "colab": {}
      },
      "source": [
        "# Let us first read the data from the file and do a quick visualization\n",
        "import pandas as pd\n",
        "train = pd.read_csv(FRUITS_TRAIN)\n",
        "test = pd.read_csv(FRUITS_TEST1)"
      ],
      "execution_count": 0,
      "outputs": []
    },
    {
      "cell_type": "code",
      "metadata": {
        "id": "iYii1RPHOSk9",
        "colab_type": "code",
        "colab": {}
      },
      "source": [
        "#Let us see first five rows of data\n",
        "train.head()"
      ],
      "execution_count": 0,
      "outputs": []
    },
    {
      "cell_type": "markdown",
      "metadata": {
        "id": "tjgbrRIzIuo8",
        "colab_type": "text"
      },
      "source": [
        "We see that similar fruits come close in the feature (weight, color) space. Now let us plot one sample data given in black."
      ]
    },
    {
      "cell_type": "code",
      "metadata": {
        "id": "K2b0LyQFy3Aw",
        "colab_type": "code",
        "colab": {}
      },
      "source": [
        "import matplotlib.pyplot as plt"
      ],
      "execution_count": 0,
      "outputs": []
    },
    {
      "cell_type": "code",
      "metadata": {
        "id": "GIGXz97lzVyk",
        "colab_type": "code",
        "colab": {}
      },
      "source": [
        "apples=train[train['Label']=='A']\n",
        "oranges=train[train['Label']=='O']"
      ],
      "execution_count": 0,
      "outputs": []
    },
    {
      "cell_type": "code",
      "metadata": {
        "id": "y1TkHK4BIuo8",
        "colab_type": "code",
        "colab": {}
      },
      "source": [
        "plt.plot(apples.Weight, apples.Sphericity, \"ro\")\n",
        "plt.plot(oranges.Weight, oranges.Sphericity, \"bo\")\n",
        "plt.xlabel(\"Weight -- in grams\")\n",
        "plt.ylabel(\"Sphericity -- r-o-y-g-b-p\")\n",
        "plt.legend([\"Apples\", \"Oranges\"])\n",
        "plt.plot([373], [1], \"ko\")\n",
        "plt.show()"
      ],
      "execution_count": 0,
      "outputs": []
    },
    {
      "cell_type": "markdown",
      "metadata": {
        "id": "2Ku_800sIuo_",
        "colab_type": "text"
      },
      "source": [
        "From the visualization alone, we can infer that the unknown fruit is likely to be an Orange. \n",
        "\n",
        "The job now is to instead of eyeballing it one at a time like above, use a kNN classifier with, say, $k = 3$ and using the *Euclidean* distance, to determine the correct label for the data in the file  \"kNN_weight_sphericity_test.csv\"\n"
      ]
    },
    {
      "cell_type": "markdown",
      "metadata": {
        "id": "LvhBe3T2IupC",
        "colab_type": "text"
      },
      "source": [
        "Now let us write code to find the $k$ nearest neighbours of a given fruit"
      ]
    },
    {
      "cell_type": "code",
      "metadata": {
        "id": "KZ9X_RPKOJPd",
        "colab_type": "code",
        "colab": {}
      },
      "source": [
        "train = train.values\n",
        "test = test.values"
      ],
      "execution_count": 0,
      "outputs": []
    },
    {
      "cell_type": "code",
      "metadata": {
        "id": "hhp_-dJwqDXl",
        "colab_type": "code",
        "colab": {}
      },
      "source": [
        "# Let us store the data and labels in two separte variables\n",
        "# Storing the train data\n",
        "train_data = train[:,:2]\n",
        "# Storing the train labels\n",
        "train_labels = train[:,2]"
      ],
      "execution_count": 0,
      "outputs": []
    },
    {
      "cell_type": "code",
      "metadata": {
        "id": "kGDzA8IINsiS",
        "colab_type": "code",
        "colab": {}
      },
      "source": [
        "from sklearn.neighbors import KNeighborsClassifier"
      ],
      "execution_count": 0,
      "outputs": []
    },
    {
      "cell_type": "code",
      "metadata": {
        "id": "QoTVgJjuN0bA",
        "colab_type": "code",
        "colab": {}
      },
      "source": [
        "def knn(k,train_data,train_labels,test):\n",
        "  knn_c = KNeighborsClassifier(n_neighbors=k,metric='euclidean')\n",
        "  knn_c.fit(train_data,train_labels) \n",
        "  return knn_c.predict(test)"
      ],
      "execution_count": 0,
      "outputs": []
    },
    {
      "cell_type": "markdown",
      "metadata": {
        "id": "kmjAgo1kIupP",
        "colab_type": "text"
      },
      "source": [
        "Now let us use the test data and find the labels for all of them. Also let us calculate the accuracy"
      ]
    },
    {
      "cell_type": "code",
      "metadata": {
        "id": "hd-04pt3IupR",
        "colab_type": "code",
        "colab": {}
      },
      "source": [
        "## When k = 3\n",
        "# Storing test data\n",
        "test_data = test[:,:2]\n",
        "#storing test labels\n",
        "test_labels = test[:,2]\n",
        "# Calling the knn function to predict the labels for test data\n",
        "predicted_values = knn(3,train_data,train_labels,test_data)"
      ],
      "execution_count": 0,
      "outputs": []
    },
    {
      "cell_type": "code",
      "metadata": {
        "id": "ZM4pHsf-RYAk",
        "colab_type": "code",
        "colab": {}
      },
      "source": [
        "predicted_values"
      ],
      "execution_count": 0,
      "outputs": []
    },
    {
      "cell_type": "markdown",
      "metadata": {
        "id": "hSTcwqH_QpL7",
        "colab_type": "text"
      },
      "source": [
        "### let us calculate the accuracy"
      ]
    },
    {
      "cell_type": "code",
      "metadata": {
        "id": "NxeK0Hs7QoP0",
        "colab_type": "code",
        "colab": {}
      },
      "source": [
        "from sklearn.metrics import accuracy_score\n",
        "accuracy_score(test_labels, predicted_values)"
      ],
      "execution_count": 0,
      "outputs": []
    },
    {
      "cell_type": "code",
      "metadata": {
        "id": "-j4kPe_cuai-",
        "colab_type": "code",
        "cellView": "form",
        "colab": {}
      },
      "source": [
        "#@title Linear classifiers learn a separating hyperplane from the training samples. Run the following cell to create a Linear Classifier and plot the output. Double clicking here would reveal the code causing the classifier. Its however enough to appreciate the linear classifer, and ignore the inner workings of matplot (which you'll learn later)\n",
        "from sklearn import preprocessing\n",
        "le = preprocessing.LabelEncoder()\n",
        "import numpy as np\n",
        "from sklearn import linear_model\n",
        "from sklearn.preprocessing import MinMaxScaler\n",
        "\n",
        "scaler=MinMaxScaler()\n",
        "train = pd.read_csv(FRUITS_TRAIN)\n",
        "test = pd.read_csv(FRUITS_TEST1)\n",
        "X2 = train.iloc[:,:-1].values#np.array([[2,1],[3,4],[4,2],[3,1]])\n",
        "X=scaler.fit_transform(X2)\n",
        "\n",
        "\n",
        "Y = le.fit_transform(train.iloc[:,-1].values)\n",
        "h = .02  # step size in the mesh\n",
        "\n",
        "#clf2 = Perceptron(max_iter=1000).fit(X, Y)\n",
        "clf2 = linear_model.SGDClassifier(max_iter=1000, tol=1e-3)\n",
        "\n",
        "clf2.fit(X,Y)\n",
        "\n",
        "# create a mesh to plot in\n",
        "x_min, x_max = X[:, 0].min() - 1, X[:, 0].max() + 1\n",
        "y_min, y_max = X[:, 1].min() - 1, X[:, 1].max() + 1\n",
        "xx, yy = np.meshgrid(np.arange(x_min, x_max, h),\n",
        "                     np.arange(y_min, y_max, h))\n",
        "\n",
        "# Plot the decision boundary. For that, we will assign a color to each\n",
        "# point in the mesh [x_min, m_max]x[y_min, y_max].\n",
        "fig, ax = plt.subplots()\n",
        "Z = clf2.predict(np.c_[xx.ravel(), yy.ravel()])\n",
        "\n",
        "# Put the result into a color plot\n",
        "Z = Z.reshape(xx.shape)\n",
        "ax.contourf(xx, yy, Z, cmap=plt.cm.Paired)\n",
        "ax.axis('off')\n",
        "\n",
        "# Plot also the training points\n",
        "ax.scatter(X[:, 0], X[:, 1], c=Y)\n",
        "\n",
        "ax.set_title('Linear Classfier')"
      ],
      "execution_count": 0,
      "outputs": []
    },
    {
      "cell_type": "markdown",
      "metadata": {
        "id": "drrdLaXdIupe",
        "colab_type": "text"
      },
      "source": [
        "**Exercise 1** :: Repeat the above experiment with different values of k. Please note that the dataset here is small and used for represenatational/visualization purpose. Hence varying k might not impact the output by a lot."
      ]
    },
    {
      "cell_type": "code",
      "metadata": {
        "id": "B7z6Tpz5Iupg",
        "colab_type": "code",
        "colab": {}
      },
      "source": [
        "## Your code here"
      ],
      "execution_count": 0,
      "outputs": []
    },
    {
      "cell_type": "markdown",
      "metadata": {
        "id": "uOkCzj-8Iupq",
        "colab_type": "text"
      },
      "source": [
        "**Exercise 2** ::  Ignore the sphericity feature from train and test data then calculate the accuracy on the test data."
      ]
    },
    {
      "cell_type": "code",
      "metadata": {
        "id": "Xj4v_8T8Iupq",
        "colab_type": "code",
        "colab": {}
      },
      "source": [
        "## Your code here"
      ],
      "execution_count": 0,
      "outputs": []
    },
    {
      "cell_type": "markdown",
      "metadata": {
        "id": "XB7s_D6uIupw",
        "colab_type": "text"
      },
      "source": [
        "\n",
        "**Exercise 3** :: If we use the sum of the absolute differences, as the distance metric instead of the Euclidean, how does that affect the accuracy?"
      ]
    },
    {
      "cell_type": "code",
      "metadata": {
        "id": "gBt7YEnTIupx",
        "colab_type": "code",
        "colab": {}
      },
      "source": [
        "## Your code here"
      ],
      "execution_count": 0,
      "outputs": []
    },
    {
      "cell_type": "markdown",
      "metadata": {
        "id": "rW8jOEY3Iup1",
        "colab_type": "text"
      },
      "source": [
        "## Summary\n",
        "In the above experiment, we find that \n",
        " * a simple nearest neighbour method can successfully predict labels with a small number of labelled examples. We also demo a Linear Classifier that separates the two classes, for the same data.\n",
        " * But we also see that the results can go really wrong \n",
        "    - if we make some wrong choices (like weight in Kg, or a very large K).\n",
        "\n",
        "This should remind you about the practical expertise and experimental skills that will become equally important as we move forward."
      ]
    },
    {
      "cell_type": "markdown",
      "metadata": {
        "id": "QgnNMD1tySCy",
        "colab_type": "text"
      },
      "source": [
        "### Please answer the questions below to complete the experiment:"
      ]
    },
    {
      "cell_type": "code",
      "metadata": {
        "id": "gpe3EtT6yh6W",
        "colab_type": "code",
        "colab": {}
      },
      "source": [
        "#@title When does we use nearest neighbor approach ? { run: \"auto\", form-width: \"500px\", display-mode: \"form\" }\n",
        "Answer = \" \" #@param [\"with large-sized datasets\",\"when irrelevant attributes have been removed from the data\" ]"
      ],
      "execution_count": 0,
      "outputs": []
    },
    {
      "cell_type": "code",
      "metadata": {
        "id": "1MD9Yvk7yVBp",
        "colab_type": "code",
        "colab": {}
      },
      "source": [
        "#@title How was the experiment? { run: \"auto\", form-width: \"500px\", display-mode: \"form\" }\n",
        "Complexity = \"\" #@param [\"Too Simple, I am wasting time\", \"Good, But Not Challenging for me\", \"Good and Challenging for me\", \"Was Tough, but I did it\", \"Too Difficult for me\"]\n"
      ],
      "execution_count": 0,
      "outputs": []
    },
    {
      "cell_type": "code",
      "metadata": {
        "id": "uXRz43-gyY4y",
        "colab_type": "code",
        "colab": {}
      },
      "source": [
        "#@title If it was very easy, what more you would have liked to have been added? If it was very difficult, what would you have liked to have been removed? { run: \"auto\", display-mode: \"form\" }\n",
        "Additional = \"\" #@param {type:\"string\"}"
      ],
      "execution_count": 0,
      "outputs": []
    },
    {
      "cell_type": "code",
      "metadata": {
        "id": "K4I-6euxybb1",
        "colab_type": "code",
        "colab": {}
      },
      "source": [
        "#@title Can you identify the concepts from the lecture which this experiment covered? { run: \"auto\", vertical-output: true, display-mode: \"form\" }\n",
        "Concepts = \" \" #@param [\"Yes\", \"No\"]"
      ],
      "execution_count": 0,
      "outputs": []
    },
    {
      "cell_type": "code",
      "metadata": {
        "id": "0rhRE4Zhyesw",
        "colab_type": "code",
        "cellView": "form",
        "colab": {}
      },
      "source": [
        "#@title Run this cell to submit your notebook for grading { vertical-output: true }\n",
        "try:\n",
        "  if submission_id:\n",
        "      return_id = submit_notebook()\n",
        "      if return_id : submission_id =return_id\n",
        "  else:\n",
        "      print(\"Please complete the setup first.\")\n",
        "except NameError:\n",
        "  print (\"Please complete the setup first.\")"
      ],
      "execution_count": 0,
      "outputs": []
    },
    {
      "cell_type": "code",
      "metadata": {
        "id": "4DX8R7Bazk84",
        "colab_type": "code",
        "colab": {}
      },
      "source": [
        ""
      ],
      "execution_count": 0,
      "outputs": []
    }
  ]
}