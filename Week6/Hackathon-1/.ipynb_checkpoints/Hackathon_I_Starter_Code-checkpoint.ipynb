{
 "cells": [
  {
   "cell_type": "markdown",
   "metadata": {
    "colab_type": "text",
    "id": "SZIubkln0AI2"
   },
   "source": [
    "# Advanced Certification in AIML\n",
    "## A Program by IIIT-H and TalentSprint"
   ]
  },
  {
   "cell_type": "markdown",
   "metadata": {
    "colab_type": "text",
    "id": "4LNbxek40AI4"
   },
   "source": [
    "# Hackathon : Voice commands based food ordering system"
   ]
  },
  {
   "cell_type": "markdown",
   "metadata": {
    "colab_type": "text",
    "id": "3e0e3sFh0JZJ"
   },
   "source": [
    "### Setup Steps"
   ]
  },
  {
   "cell_type": "code",
   "execution_count": 0,
   "metadata": {
    "colab": {},
    "colab_type": "code",
    "id": "xWQwfHmR0MDu"
   },
   "outputs": [],
   "source": [
    "#@title Please enter your registration id to start: (e.g. P181900101) { run: \"auto\", display-mode: \"form\" }\n",
    "Id = \"P19A06E_test\" #@param {type:\"string\"}\n"
   ]
  },
  {
   "cell_type": "code",
   "execution_count": 0,
   "metadata": {
    "colab": {},
    "colab_type": "code",
    "id": "RBdFVMDi0Ou0"
   },
   "outputs": [],
   "source": [
    "#@title Please enter your password (normally your phone number) to continue: { run: \"auto\", display-mode: \"form\" }\n",
    "password = \"981234567\" #@param {type:\"string\"}\n"
   ]
  },
  {
   "cell_type": "code",
   "execution_count": 0,
   "metadata": {
    "cellView": "form",
    "colab": {
     "base_uri": "https://localhost:8080/",
     "height": 34
    },
    "colab_type": "code",
    "id": "Kv0xxq_d0Qb_",
    "outputId": "8b63f64c-62bb-4261-cbcb-b75af55b840c"
   },
   "outputs": [
    {
     "name": "stdout",
     "output_type": "stream",
     "text": [
      "Setup completed successfully\n"
     ]
    }
   ],
   "source": [
    "#@title Run this cell to complete the setup for this Notebook\n",
    "\n",
    "from IPython import get_ipython\n",
    "ipython = get_ipython()\n",
    "  \n",
    "notebook=\"BLR_M2_Hackathon\" #name of the notebook\n",
    "\n",
    "def setup():\n",
    "#  ipython.magic(\"sx pip3 install torch\")\n",
    "    ipython.magic(\"sx wget https://cdn.talentsprint.com/aiml/Experiment_related_data/Week8/Hackathon2/Noisy_data.zip\")\n",
    "    ipython.magic(\"sx wget https://cdn.talentsprint.com/aiml/Experiment_related_data/Week8/Hackathon2/studio_data.zip\")\n",
    "    ipython.magic(\"sx wget https://cdn.talentsprint.com/aiml/Experiment_related_data/Week8/Hackathon2/Record_audio.py\")\n",
    "    ipython.magic(\"sx wget https://cdn.talentsprint.com/aiml/Experiment_related_data/Week8/Hackathon2/net_speech_89.pt\")\n",
    "    ipython.magic(\"sx unzip studio_data.zip\")\n",
    "    ipython.magic(\"sx unzip Noisy_data.zip\")\n",
    "    ipython.magic(\"sx pip install torch torchvision\")\n",
    "    ipython.magic(\"sx pip install librosa\")\n",
    "    print (\"Setup completed successfully\")\n",
    "    return\n",
    "\n",
    "def submit_notebook():\n",
    "    \n",
    "    ipython.magic(\"notebook -e \"+ notebook + \".ipynb\")\n",
    "    \n",
    "    import requests, json, base64\n",
    "\n",
    "    url = \"https://dashboard.talentsprint.com/xp/app/save_notebook_attempts\"\n",
    "    if not submission_id:\n",
    "      data = {\"id\" : getId(), \"notebook\" : notebook, \"mobile\" : getPassword()}\n",
    "      r = requests.post(url, data = data)\n",
    "      r = json.loads(r.text)\n",
    "\n",
    "      if r[\"status\"] == \"Success\":\n",
    "          return r[\"record_id\"]\n",
    "      elif \"err\" in r:        \n",
    "        print(r[\"err\"])\n",
    "        return None        \n",
    "      else:\n",
    "        print (\"Something is wrong, the notebook will not be submitted for grading\")\n",
    "        return None\n",
    "\n",
    "    elif getComplexity() and getAdditional() and getConcepts():\n",
    "      f = open(notebook + \".ipynb\", \"rb\")\n",
    "      file_hash = base64.b64encode(f.read())\n",
    "\n",
    "      data = {\"complexity\" : Complexity, \"additional\" :Additional, \n",
    "              \"concepts\" : Concepts, \"record_id\" : submission_id, \n",
    "              \"id\" : Id, \"file_hash\" : file_hash, \"notebook\" : notebook}\n",
    "\n",
    "      r = requests.post(url, data = data)\n",
    "      print(\"Your submission is successful. Ref:\", submission_id)\n",
    "      return submission_id\n",
    "    else: submission_id\n",
    "    \n",
    "\n",
    "def getAdditional():\n",
    "  try:\n",
    "    if Additional: return Additional      \n",
    "    else: raise NameError('')\n",
    "  except NameError:\n",
    "    print (\"Please answer Additional Question\")\n",
    "    return None\n",
    "\n",
    "def getComplexity():\n",
    "  try:\n",
    "    return Complexity\n",
    "  except NameError:\n",
    "    print (\"Please answer Complexity Question\")\n",
    "    return None\n",
    "  \n",
    "def getConcepts():\n",
    "  try:\n",
    "    return Concepts\n",
    "  except NameError:\n",
    "    print (\"Please answer Concepts Question\")\n",
    "    return None\n",
    "\n",
    "def getId():\n",
    "  try: \n",
    "    return Id if Id else None\n",
    "  except NameError:\n",
    "    return None\n",
    "\n",
    "def getPassword():\n",
    "  try:\n",
    "    return password if password else None\n",
    "  except NameError:\n",
    "    return None\n",
    "\n",
    "submission_id = None\n",
    "### Setup \n",
    "if getPassword() and getId():\n",
    "  submission_id = submit_notebook()\n",
    "  if submission_id:\n",
    "    setup()\n",
    "  \n",
    "else:\n",
    "  print (\"Please complete Id and Password cells before running setup\")\n",
    "\n"
   ]
  },
  {
   "cell_type": "code",
   "execution_count": 0,
   "metadata": {
    "colab": {},
    "colab_type": "code",
    "id": "DqNBNvC25WNV"
   },
   "outputs": [],
   "source": [
    "import torch\n",
    "from torch.autograd import Variable\n",
    "import numpy as np\n",
    "import librosa\n",
    "import os\n",
    "import warnings\n",
    "from time import sleep\n",
    "import sys\n",
    "warnings.filterwarnings('ignore')"
   ]
  },
  {
   "cell_type": "markdown",
   "metadata": {
    "colab_type": "text",
    "id": "wqMmxLR38vJ3"
   },
   "source": [
    "## Pretrained Network for deep features\n",
    "\n",
    "\n",
    "The following function contains code to load a pre-trained network to produces deep features for the audio sample. This network is trained with delta MFCC features of mono channel 8000 bit rate audio sample."
   ]
  },
  {
   "cell_type": "code",
   "execution_count": 0,
   "metadata": {
    "colab": {},
    "colab_type": "code",
    "id": "NDbuxUiL2zYL"
   },
   "outputs": [],
   "source": [
    "def get_network():\n",
    "\n",
    "    net = torch.nn.Sequential()\n",
    "\n",
    "    saved_net = torch.load(\"net_speech_89.pt\").cpu()\n",
    "\n",
    "    for index, module in enumerate(saved_net):\n",
    "        net.add_module(\"layer\"+str(index),module)\n",
    "        if (index+1)%17 == 0 :\n",
    "            break\n",
    "    return net"
   ]
  },
  {
   "cell_type": "code",
   "execution_count": 0,
   "metadata": {
    "colab": {
     "base_uri": "https://localhost:8080/",
     "height": 340
    },
    "colab_type": "code",
    "id": "dmoIgxTG5ZnF",
    "outputId": "c4eb6caa-86d1-4072-8eac-63df39d48891"
   },
   "outputs": [
    {
     "data": {
      "text/plain": [
       "Sequential(\n",
       "  (layer0): Linear(in_features=900, out_features=800, bias=True)\n",
       "  (layer1): ReLU()\n",
       "  (layer2): Linear(in_features=800, out_features=700, bias=True)\n",
       "  (layer3): ReLU()\n",
       "  (layer4): Linear(in_features=700, out_features=600, bias=True)\n",
       "  (layer5): ReLU()\n",
       "  (layer6): Linear(in_features=600, out_features=500, bias=True)\n",
       "  (layer7): ReLU()\n",
       "  (layer8): Linear(in_features=500, out_features=400, bias=True)\n",
       "  (layer9): ReLU()\n",
       "  (layer10): Linear(in_features=400, out_features=300, bias=True)\n",
       "  (layer11): ReLU()\n",
       "  (layer12): Linear(in_features=300, out_features=200, bias=True)\n",
       "  (layer13): ReLU()\n",
       "  (layer14): Linear(in_features=200, out_features=100, bias=True)\n",
       "  (layer15): ReLU()\n",
       "  (layer16): Linear(in_features=100, out_features=50, bias=True)\n",
       ")"
      ]
     },
     "execution_count": 39,
     "metadata": {
      "tags": []
     },
     "output_type": "execute_result"
    }
   ],
   "source": [
    "get_network()"
   ]
  },
  {
   "cell_type": "markdown",
   "metadata": {
    "colab_type": "text",
    "id": "sZS1NA1sATEf"
   },
   "source": [
    "##Obtaining Features from Audio samples\n",
    "Generate features from a audio sample of '.wav' format\n",
    "* Generate Delta MFCC features of order 1 and 2 \n",
    "* Passes them through the above mentioned deep neural net\n",
    "* the obtained deep features are returned\n",
    "\n",
    "Parameters: Filepath (path of audio sample),\n",
    "                       sr (sampling rate, all the samples provided are of 8000 bitrate)\n",
    "         \n",
    "  Caution: Do not change the default parameters"
   ]
  },
  {
   "cell_type": "code",
   "execution_count": 0,
   "metadata": {
    "colab": {},
    "colab_type": "code",
    "id": "eTtb2zAj5k0-"
   },
   "outputs": [],
   "source": [
    "def get_features(filepath, sr=8000, n_mfcc=30, n_mels=128, frames = 15):\n",
    "    \n",
    "    \n",
    "    y, sr = librosa.load(filepath, sr=sr)\n",
    "    D = np.abs(librosa.stft(y))**2\n",
    "    S = librosa.feature.melspectrogram(S=D)\n",
    "    S = librosa.feature.melspectrogram(y=y, sr=sr, n_mels=n_mels)\n",
    "    log_S = librosa.power_to_db(S,ref=np.max)\n",
    "    features = librosa.feature.mfcc(S=log_S, n_mfcc=n_mfcc)\n",
    "    if features.shape[1] < frames :\n",
    "        features = np.hstack((features, np.zeros((n_mfcc, frames - features.shape[1]))))\n",
    "    elif features.shape[1] > frames:\n",
    "        features = features[:, :frames]\n",
    "    # Find 1st order delta_mfcc\n",
    "    delta1_mfcc = librosa.feature.delta(features, order=1)\n",
    "\n",
    "    # Find 2nd order delta_mfcc\n",
    "    delta2_mfcc = librosa.feature.delta(features, order=2)\n",
    "    features = np.hstack((delta1_mfcc.flatten(), delta2_mfcc.flatten()))\n",
    "    features = features.flatten()[np.newaxis, :]\n",
    "    features = Variable(torch.from_numpy(features)).float()\n",
    "    deep_net = get_network()\n",
    "    deep_features = deep_net(features)\n",
    "    #print(features.shape)\n",
    "    #print(audio_file)\n",
    "    #features.flatten()[np.newaxis, :]\n",
    "    return deep_features.data.numpy().flatten()"
   ]
  },
  {
   "cell_type": "markdown",
   "metadata": {
    "colab_type": "text",
    "id": "NhLFY4n6BwIj"
   },
   "source": [
    "## All the voice sample needed for training are present across the folders \"Noisy_data\" and \"studio_data\""
   ]
  },
  {
   "cell_type": "code",
   "execution_count": 0,
   "metadata": {
    "colab": {
     "base_uri": "https://localhost:8080/",
     "height": 104
    },
    "colab_type": "code",
    "id": "B4-clpEl-1RF",
    "outputId": "76fa001f-3463-4173-96b3-27f79bddbdf1"
   },
   "outputs": [
    {
     "name": "stdout",
     "output_type": "stream",
     "text": [
      "M2_Hackathon.ipynb  \u001b[0m\u001b[01;34mNoisy_data\u001b[0m/       Record_audio.py    studio_data.zip\n",
      "\u001b[01;34m__MACOSX\u001b[0m/           Noisy_data.zip    Record_audio.py.1  studio_data.zip.1\n",
      "net_speech_89.pt    Noisy_data.zip.1  Record_audio.py.2  studio_data.zip.2\n",
      "net_speech_89.pt.1  Noisy_data.zip.2  \u001b[01;34msample_data\u001b[0m/\n",
      "net_speech_89.pt.2  \u001b[01;34m__pycache__\u001b[0m/      \u001b[01;34mstudio_data\u001b[0m/\n"
     ]
    }
   ],
   "source": [
    "%ls"
   ]
  },
  {
   "cell_type": "markdown",
   "metadata": {
    "colab_type": "text",
    "id": "SB-LowDuCMUL"
   },
   "source": [
    "##Stage 1: \n",
    "#### Max. Marks: 5\n",
    "#### Complete the code in the load_data function\n",
    "\n",
    "* The function should take path of the folder containing audio samples as input\n",
    "* It should return features of all the audio samples present in the specified folder into single array (list of lists or 2-d numpy array) and their respective labels should be returned too"
   ]
  },
  {
   "cell_type": "code",
   "execution_count": 0,
   "metadata": {
    "colab": {},
    "colab_type": "code",
    "id": "qDzCa-532EUj"
   },
   "outputs": [],
   "source": [
    "def load_data(folder_path):\n",
    "  ##YOUR CODE HERE\n",
    "  return features, labels"
   ]
  },
  {
   "cell_type": "code",
   "execution_count": 0,
   "metadata": {
    "colab": {
     "base_uri": "https://localhost:8080/",
     "height": 104
    },
    "colab_type": "code",
    "id": "XuojnAB7VTx4",
    "outputId": "ce51c3cf-3171-4b5e-b777-0aa5aa61048b"
   },
   "outputs": [
    {
     "name": "stdout",
     "output_type": "stream",
     "text": [
      "M2_Hackathon.ipynb  \u001b[0m\u001b[01;34mNoisy_data\u001b[0m/       Record_audio.py    studio_data.zip\n",
      "\u001b[01;34m__MACOSX\u001b[0m/           Noisy_data.zip    Record_audio.py.1  studio_data.zip.1\n",
      "net_speech_89.pt    Noisy_data.zip.1  Record_audio.py.2  studio_data.zip.2\n",
      "net_speech_89.pt.1  Noisy_data.zip.2  \u001b[01;34msample_data\u001b[0m/\n",
      "net_speech_89.pt.2  \u001b[01;34m__pycache__\u001b[0m/      \u001b[01;34mstudio_data\u001b[0m/\n"
     ]
    }
   ],
   "source": [
    "%ls"
   ]
  },
  {
   "cell_type": "markdown",
   "metadata": {
    "colab_type": "text",
    "id": "7673ezpxFEfM"
   },
   "source": [
    "####load data and labels from studio_data folder"
   ]
  },
  {
   "cell_type": "code",
   "execution_count": 0,
   "metadata": {
    "colab": {},
    "colab_type": "code",
    "id": "u5CjrlPVPjNs"
   },
   "outputs": [],
   "source": [
    "studio_recorded_features, studio_recorded_labels = load_data('studio_data')"
   ]
  },
  {
   "cell_type": "markdown",
   "metadata": {
    "colab_type": "text",
    "id": "BGq6XpvhFynP"
   },
   "source": [
    "##Stage 2:\n",
    "\n",
    "####Max. Marks:18\n",
    "\n",
    "#### Train a classifier on the features obtained above"
   ]
  },
  {
   "cell_type": "code",
   "execution_count": 0,
   "metadata": {
    "colab": {},
    "colab_type": "code",
    "id": "VU5hdERsFw5o"
   },
   "outputs": [],
   "source": [
    "##YOUR CODE HERE"
   ]
  },
  {
   "cell_type": "markdown",
   "metadata": {
    "colab_type": "text",
    "id": "OGixO_z6Gf-Y"
   },
   "source": [
    "####Save your model\n",
    "\n",
    "Hint:\n",
    "* Incase if you are using scikit learn model for training, you can use joblib package to save the model.\n",
    "* Manually implemented models as a function or class can be saved using pickle "
   ]
  },
  {
   "cell_type": "code",
   "execution_count": 0,
   "metadata": {
    "colab": {},
    "colab_type": "code",
    "id": "ut8aQN5_G7bx"
   },
   "outputs": [],
   "source": []
  },
  {
   "cell_type": "markdown",
   "metadata": {
    "colab_type": "text",
    "id": "jsCHKXubHAJB"
   },
   "source": [
    "#### Download your trained model using the code below\n",
    "* given the path of model file the following code downloads it through the browser"
   ]
  },
  {
   "cell_type": "code",
   "execution_count": 0,
   "metadata": {
    "colab": {},
    "colab_type": "code",
    "id": "BDmWXfPaHJZG"
   },
   "outputs": [],
   "source": [
    "from google.colab import files\n",
    "files.download('<model_file_path>')"
   ]
  },
  {
   "cell_type": "markdown",
   "metadata": {
    "colab_type": "text",
    "id": "R7ccsM_ZISWj"
   },
   "source": [
    "\n",
    "##Stage 3: (Application Deployment)\n",
    "\n",
    "#### Max. Marks: 5M\n",
    "#### Now deploy the model trained on studio_data in the sever to order food correctly. \n",
    "#### Deployment instruction are given the Hackathon documentation\n",
    "#### After deploying and checking the application come back here to train on Noisy_data to generalise better in real situations"
   ]
  },
  {
   "cell_type": "markdown",
   "metadata": {
    "colab_type": "text",
    "id": "VFOudw7XGDeQ"
   },
   "source": [
    "#### load data and labels from Noisy_data folder"
   ]
  },
  {
   "cell_type": "code",
   "execution_count": 0,
   "metadata": {
    "colab": {},
    "colab_type": "code",
    "id": "5LLejdkbCat2"
   },
   "outputs": [],
   "source": [
    "noisy_data, noisy_data_labels = load_data('Noisy_data')"
   ]
  },
  {
   "cell_type": "markdown",
   "metadata": {
    "colab_type": "text",
    "id": "wPmAbksHGK0a"
   },
   "source": [
    "## Stage 4:\n",
    "####Max. Marks:8\n",
    "#### Train a classifier on the features obtained from both the Noisy_data and Studio_data"
   ]
  },
  {
   "cell_type": "code",
   "execution_count": 0,
   "metadata": {
    "colab": {
     "base_uri": "https://localhost:8080/",
     "height": 35
    },
    "colab_type": "code",
    "id": "XyZ16AUKGeoN",
    "outputId": "f7e8a8dc-a093-435b-e64b-24ac3f0abd2a"
   },
   "outputs": [
    {
     "data": {
      "text/plain": [
       "(11839, 50)"
      ]
     },
     "execution_count": 18,
     "metadata": {
      "tags": []
     },
     "output_type": "execute_result"
    }
   ],
   "source": [
    "##YOUR CODE HERE"
   ]
  },
  {
   "cell_type": "markdown",
   "metadata": {
    "colab_type": "text",
    "id": "wJlS0qjmIEYz"
   },
   "source": [
    "#### Download your trained model using the code below\n",
    "* given the path of model file the following code downloads it through the browser"
   ]
  },
  {
   "cell_type": "code",
   "execution_count": 0,
   "metadata": {
    "colab": {},
    "colab_type": "code",
    "id": "mUM_6cP-IJy5"
   },
   "outputs": [],
   "source": [
    "from google.colab import files\n",
    "files.download('<model_file_path>')"
   ]
  },
  {
   "cell_type": "markdown",
   "metadata": {
    "colab_type": "text",
    "id": "jA829HXjIe5Z"
   },
   "source": [
    "#### Now deploy the model trained above in the sever to order food correctly. \n",
    "#### Deployment instruction are given the Hackathon documentation\n",
    "#### After deploying and checking the application, record your teams data from the web application provided in the Hackathon document"
   ]
  },
  {
   "cell_type": "code",
   "execution_count": 0,
   "metadata": {
    "colab": {},
    "colab_type": "code",
    "id": "nv3I24flWlLq"
   },
   "outputs": [],
   "source": [
    "!mkdir teamdata"
   ]
  },
  {
   "cell_type": "markdown",
   "metadata": {
    "colab_type": "text",
    "id": "TWrJSY-OGyG9"
   },
   "source": [
    "Replace <YOUR_GROUP_ID> with your group id given in the lab"
   ]
  },
  {
   "cell_type": "code",
   "execution_count": 0,
   "metadata": {
    "colab": {},
    "colab_type": "code",
    "id": "gB_bSllKWJ5U"
   },
   "outputs": [],
   "source": [
    "!wget -r -A .wav https://aiml-sandbox1.talentsprint.com/audio_recorder/<YOUR_GROUP_ID>/team_data/ -nH --cut-dirs=100  -P ./team_data"
   ]
  },
  {
   "cell_type": "code",
   "execution_count": 0,
   "metadata": {
    "colab": {
     "base_uri": "https://localhost:8080/",
     "height": 34
    },
    "colab_type": "code",
    "executionInfo": {
     "elapsed": 3780,
     "status": "ok",
     "timestamp": 1542448444560,
     "user": {
      "displayName": "Raghava kumar",
      "photoUrl": "",
      "userId": "12233731786455370504"
     },
     "user_tz": -330
    },
    "id": "kXYUWdd2WZlA",
    "outputId": "568194cc-8bf8-48b6-fac0-003ad278b2b5"
   },
   "outputs": [
    {
     "name": "stdout",
     "output_type": "stream",
     "text": [
      "\u001b[0m\u001b[01;34msample_data\u001b[0m/  \u001b[01;34mteam_data\u001b[0m/\n"
     ]
    }
   ],
   "source": [
    "%ls"
   ]
  },
  {
   "cell_type": "code",
   "execution_count": 0,
   "metadata": {
    "colab": {},
    "colab_type": "code",
    "id": "zU556OeCL0x9"
   },
   "outputs": [],
   "source": [
    "!unzip <zip_file_name>"
   ]
  },
  {
   "cell_type": "markdown",
   "metadata": {
    "colab_type": "text",
    "id": "wH17k1RciuM_"
   },
   "source": [
    "##Stage 5:\n",
    "#### Max. Marks: 14"
   ]
  },
  {
   "cell_type": "markdown",
   "metadata": {
    "colab_type": "text",
    "id": "u6Wg6uG0L_qz"
   },
   "source": [
    "## Enhance the model trained with both the noisy data and studio_data to your team's voice samples"
   ]
  },
  {
   "cell_type": "code",
   "execution_count": 0,
   "metadata": {
    "colab": {},
    "colab_type": "code",
    "id": "cwKko3-yL-0a"
   },
   "outputs": [],
   "source": [
    "##YOUR CODE HERE"
   ]
  },
  {
   "cell_type": "markdown",
   "metadata": {
    "colab_type": "text",
    "id": "zQhiuXMaMRp2"
   },
   "source": [
    "### Now deploy the model trained above in the sever to order food correctly. \n",
    "### Deployment instruction are given the Hackathon documentation"
   ]
  },
  {
   "cell_type": "markdown",
   "metadata": {
    "colab_type": "text",
    "id": "jx6Y0Roy19a0"
   },
   "source": [
    "### Please answer the questions below to complete the experiment:"
   ]
  },
  {
   "cell_type": "code",
   "execution_count": 0,
   "metadata": {
    "colab": {},
    "colab_type": "code",
    "id": "-O68_f5E2Az_"
   },
   "outputs": [],
   "source": [
    "#@title How was the experiment? { run: \"auto\", form-width: \"500px\", display-mode: \"form\" }\n",
    "Complexity = \"Good and Challenging me\" #@param [\"Too Simple, I am wasting time\", \"Good, But Not Challenging for me\", \"Good and Challenging me\", \"Was Tough, but I did it\", \"Too Difficult for me\"]\n"
   ]
  },
  {
   "cell_type": "code",
   "execution_count": 0,
   "metadata": {
    "colab": {},
    "colab_type": "code",
    "id": "4YpxQ61Q2CjX"
   },
   "outputs": [],
   "source": [
    "#@title If it was very easy, what more you would have liked to have been added? If it was very difficult, what would you have liked to have been removed? { run: \"auto\", display-mode: \"form\" }\n",
    "Additional = \"test\" #@param {type:\"string\"}"
   ]
  },
  {
   "cell_type": "code",
   "execution_count": 0,
   "metadata": {
    "colab": {},
    "colab_type": "code",
    "id": "QZWB9A6M2Fuv"
   },
   "outputs": [],
   "source": [
    "#@title Can you identify the concepts from the lecture which this experiment covered? { run: \"auto\", vertical-output: true, display-mode: \"form\" }\n",
    "Concepts = \"Yes\" #@param [\"Yes\", \"No\"]"
   ]
  },
  {
   "cell_type": "code",
   "execution_count": 0,
   "metadata": {
    "cellView": "form",
    "colab": {},
    "colab_type": "code",
    "id": "03H962QV2Haz"
   },
   "outputs": [],
   "source": [
    "#@title Run this cell to submit your notebook for grading { vertical-output: true }\n",
    "try:\n",
    "  if submission_id:\n",
    "      return_id = submit_notebook()\n",
    "      if return_id : submission_id =return_id\n",
    "  else:\n",
    "      print(\"Please complete the setup first.\")\n",
    "except NameError:\n",
    "  print (\"Please complete the setup first.\")"
   ]
  }
 ],
 "metadata": {
  "colab": {
   "collapsed_sections": [],
   "name": "Hackathon_II_Starter_Code.ipynb",
   "provenance": [],
   "version": "0.3.2"
  },
  "kernelspec": {
   "display_name": "Python 3",
   "language": "python",
   "name": "python3"
  },
  "language_info": {
   "codemirror_mode": {
    "name": "ipython",
    "version": 3
   },
   "file_extension": ".py",
   "mimetype": "text/x-python",
   "name": "python",
   "nbconvert_exporter": "python",
   "pygments_lexer": "ipython3",
   "version": "3.5.0"
  }
 },
 "nbformat": 4,
 "nbformat_minor": 1
}
